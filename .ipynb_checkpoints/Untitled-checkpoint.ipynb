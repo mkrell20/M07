{
 "cells": [
  {
   "cell_type": "code",
   "execution_count": 2,
   "id": "e4ac4a0e-fb00-4a98-974d-5dc88129db6a",
   "metadata": {},
   "outputs": [],
   "source": [
    "import java.util.stream.Collectors;\n",
    "void printHeaders(HttpURLConnection http){\n",
    "    Map<String,List<String>> headers = http.getHeaderFields();\n",
    "    String content = headers.entrySet()\n",
    "                     .stream()\n",
    "                     .map(e -> e.getKey() + \" = \" + e.getValue())\n",
    "                     .collect(Collectors.joining(\"\\n\"));\n",
    "    System.out.println(content);\n",
    "}"
   ]
  },
  {
   "cell_type": "code",
   "execution_count": 3,
   "id": "cbac6e75-3c8f-4800-a09f-3d8b60a7787b",
   "metadata": {},
   "outputs": [
    {
     "ename": "CompilationException",
     "evalue": "",
     "output_type": "error",
     "traceback": [
      "\u001b[1m\u001b[30m|   \u001b[1m\u001b[30mvoid saveContents (HttpURLConnnection http) throws IOException {\u001b[0m",
      "\u001b[1m\u001b[30m|   \u001b[1m\u001b[30m    BufferedReader in = new BufferedReader(\u001b[0m",
      "\u001b[1m\u001b[30m|   \u001b[1m\u001b[30m        new InputStreamReader(http.getInputStream()));\u001b[0m",
      "\u001b[1m\u001b[30m|   \u001b[1m\u001b[30m    String inputLine;\u001b[0m",
      "\u001b[1m\u001b[30m|   \u001b[1m\u001b[30m    StringBuffer response = new StringBuffer();\u001b[0m",
      "\u001b[1m\u001b[30m|   \u001b[1m\u001b[30m    while ((inputLine = in.readLine()) != null) {\u001b[0m",
      "\u001b[1m\u001b[30m|   \u001b[1m\u001b[30m        response.append(inputLine);\u001b[0m",
      "\u001b[1m\u001b[30m|   \u001b[1m\u001b[30m    }\u001b[0m",
      "\u001b[1m\u001b[30m|   \u001b[1m\u001b[30m    in.close();\u001b[0m",
      "\u001b[1m\u001b[30m|   \u001b[1m\u001b[30m    \u001b[0m",
      "\u001b[1m\u001b[30m|   \u001b[1m\u001b[30m    FileWriter myWriter = new FilerWriter(\"example.html\");\u001b[0m",
      "\u001b[1m\u001b[30m|   \u001b[1m\u001b[30m    myWriter.write(response.toString());\u001b[0m",
      "\u001b[1m\u001b[30m|   \u001b[1m\u001b[30m    myWriter.close();\u001b[0m",
      "\u001b[1m\u001b[30m|   \u001b[1m\u001b[30m}\u001b[0m",
      "\u001b[1m\u001b[31mUnresolved dependencies:\u001b[0m",
      "\u001b[1m\u001b[31m   - class HttpURLConnnection\u001b[0m",
      "\u001b[1m\u001b[31m   - class FilerWriter\u001b[0m"
     ]
    }
   ],
   "source": [
    "void saveContents (HttpURLConnnection http) throws IOException {\n",
    "    BufferedReader in = new BufferedReader(\n",
    "        new InputStreamReader(http.getInputStream()));\n",
    "    String inputLine;\n",
    "    StringBuffer response = new StringBuffer();\n",
    "    while ((inputLine = in.readLine()) != null) {\n",
    "        response.append(inputLine);\n",
    "    }\n",
    "    in.close();\n",
    "    \n",
    "    FileWriter myWriter = new FilerWriter(\"example.html\");\n",
    "    myWriter.write(response.toString());\n",
    "    myWriter.close();\n",
    "}"
   ]
  },
  {
   "cell_type": "code",
   "execution_count": null,
   "id": "85bb5ce1-7a3f-48bf-afd1-023ac0f2f7b6",
   "metadata": {},
   "outputs": [],
   "source": []
  }
 ],
 "metadata": {
  "kernelspec": {
   "display_name": "Java 11",
   "language": "java",
   "name": "java"
  },
  "language_info": {
   "codemirror_mode": "java",
   "file_extension": ".jshell",
   "mimetype": "text/x-java-source",
   "name": "Java",
   "pygments_lexer": "java",
   "version": "11.0.11+9-Ubuntu-0ubuntu2.20.04"
  }
 },
 "nbformat": 4,
 "nbformat_minor": 5
}
